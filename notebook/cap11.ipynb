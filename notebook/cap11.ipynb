{
 "cells": [
  {
   "cell_type": "markdown",
   "id": "cc569cd1",
   "metadata": {},
   "source": [
    "Cap 11 - Capítulo expressões regulares"
   ]
  },
  {
   "cell_type": "code",
   "execution_count": 1,
   "id": "1e8cc3b9",
   "metadata": {},
   "outputs": [
    {
     "name": "stdout",
     "output_type": "stream",
     "text": [
      "['exemplo@email.com', 'suporte@outroemail.com']\n"
     ]
    }
   ],
   "source": [
    "import re\n",
    "\n",
    "texto = \"Entre em contato em exemplo@email.com ou suporte@outroemail.com.\"\n",
    "padrao = r'\\b[A-Za-z0-9._%+-]+@[A-Za-z0-9.-]+\\.[A-Z|a-z]{2,}\\b'\n",
    "emails = re.findall(padrao, texto)\n",
    "print(emails)"
   ]
  }
 ],
 "metadata": {
  "kernelspec": {
   "display_name": ".venv",
   "language": "python",
   "name": "python3"
  },
  "language_info": {
   "codemirror_mode": {
    "name": "ipython",
    "version": 3
   },
   "file_extension": ".py",
   "mimetype": "text/x-python",
   "name": "python",
   "nbconvert_exporter": "python",
   "pygments_lexer": "ipython3",
   "version": "3.10.11"
  }
 },
 "nbformat": 4,
 "nbformat_minor": 5
}
