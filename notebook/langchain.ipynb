{
 "cells": [
  {
   "cell_type": "code",
   "execution_count": null,
   "id": "0e29a6a6",
   "metadata": {},
   "outputs": [],
   "source": [
    "# !pip install -U langchain-openai"
   ]
  },
  {
   "cell_type": "code",
   "execution_count": 4,
   "id": "39841c8d",
   "metadata": {},
   "outputs": [
    {
     "name": "stdout",
     "output_type": "stream",
     "text": [
      "Até a minha última atualização em outubro de 2023, o presidente do Brasil era Luiz Inácio Lula da Silva. Ele tomou posse em janeiro de 2023, após vencer as eleições de 2022. Para informações mais atualizadas, recomendo verificar fontes de notícias confiáveis.\n"
     ]
    }
   ],
   "source": [
    "from langchain.chat_models import init_chat_model\n",
    "import os\n",
    "\n",
    "OPENAI_API_KEY =  os.environ.get(\"OPENAI_API_KEY\")\n",
    "\n",
    "model = init_chat_model(\"gpt-4o-mini\", model_provider=\"openai\", openai_api_key=OPENAI_API_KEY)\n",
    "\n",
    "response = model.invoke([\n",
    "  {\"role\":\"user\", \"content\": \"quem é o presidente do Brasil?\"}\n",
    "])\n",
    "\n",
    "print(response.content)"
   ]
  }
 ],
 "metadata": {
  "kernelspec": {
   "display_name": "Python 3",
   "language": "python",
   "name": "python3"
  },
  "language_info": {
   "codemirror_mode": {
    "name": "ipython",
    "version": 3
   },
   "file_extension": ".py",
   "mimetype": "text/x-python",
   "name": "python",
   "nbconvert_exporter": "python",
   "pygments_lexer": "ipython3",
   "version": "3.11.1"
  }
 },
 "nbformat": 4,
 "nbformat_minor": 5
}
