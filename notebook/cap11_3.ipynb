{
 "cells": [
  {
   "cell_type": "markdown",
   "id": "cc569cd1",
   "metadata": {},
   "source": [
    "Cap 11 - Capítulo expressões regulares"
   ]
  },
  {
   "cell_type": "markdown",
   "id": "ad78c982",
   "metadata": {},
   "source": [
    "11.3"
   ]
  },
  {
   "cell_type": "code",
   "execution_count": 2,
   "id": "1e8cc3b9",
   "metadata": {},
   "outputs": [
    {
     "name": "stdout",
     "output_type": "stream",
     "text": [
      "'/ajuda' é um comando válido.\n",
      "'/iniciar' é um comando válido.\n",
      "'ajuda' não é um comando válido.\n",
      "'iniciar/' não é um comando válido.\n"
     ]
    }
   ],
   "source": [
    "import re\n",
    "\n",
    "padrao_comando = r'^/\\w+'\n",
    "\n",
    "comandos_teste = [\"/ajuda\", \"/iniciar\", \"ajuda\", \"iniciar/\"]\n",
    "\n",
    "for comando in comandos_teste:\n",
    "    if re.match(padrao_comando, comando):\n",
    "        print(f\"'{comando}' é um comando válido.\")\n",
    "    else:\n",
    "        print(f\"'{comando}' não é um comando válido.\")"
   ]
  }
 ],
 "metadata": {
  "kernelspec": {
   "display_name": "Python 3",
   "language": "python",
   "name": "python3"
  },
  "language_info": {
   "codemirror_mode": {
    "name": "ipython",
    "version": 3
   },
   "file_extension": ".py",
   "mimetype": "text/x-python",
   "name": "python",
   "nbconvert_exporter": "python",
   "pygments_lexer": "ipython3",
   "version": "3.10.11"
  }
 },
 "nbformat": 4,
 "nbformat_minor": 5
}
