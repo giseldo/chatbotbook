{
 "cells": [
  {
   "cell_type": "code",
   "execution_count": 2,
   "id": "793db54a",
   "metadata": {},
   "outputs": [
    {
     "name": "stdout",
     "output_type": "stream",
     "text": [
      "Collecting aiml\n",
      "  Downloading aiml-0.9.2-py2.py3-none-any.whl.metadata (1.3 kB)\n",
      "Requirement already satisfied: setuptools in c:\\python\\python310\\lib\\site-packages (from aiml) (70.3.0)\n",
      "Downloading aiml-0.9.2-py2.py3-none-any.whl (2.1 MB)\n",
      "   ---------------------------------------- 0.0/2.1 MB ? eta -:--:--\n",
      "   ------------------- -------------------- 1.0/2.1 MB 12.7 MB/s eta 0:00:01\n",
      "   ---------------------------------------- 2.1/2.1 MB 6.6 MB/s eta 0:00:00\n",
      "Installing collected packages: aiml\n",
      "Successfully installed aiml-0.9.2\n"
     ]
    }
   ],
   "source": [
    "! pip install aiml"
   ]
  },
  {
   "cell_type": "code",
   "execution_count": 3,
   "id": "dafe45ce",
   "metadata": {},
   "outputs": [
    {
     "name": "stdout",
     "output_type": "stream",
     "text": [
      "Loading std-startup.xml..."
     ]
    },
    {
     "ename": "AttributeError",
     "evalue": "module 'time' has no attribute 'clock'",
     "output_type": "error",
     "traceback": [
      "\u001b[1;31m---------------------------------------------------------------------------\u001b[0m",
      "\u001b[1;31mAttributeError\u001b[0m                            Traceback (most recent call last)",
      "Cell \u001b[1;32mIn[3], line 9\u001b[0m\n\u001b[0;32m      6\u001b[0m kernel \u001b[38;5;241m=\u001b[39m aiml\u001b[38;5;241m.\u001b[39mKernel()\n\u001b[0;32m      8\u001b[0m \u001b[38;5;66;03m# Carregar arquivos AIML\u001b[39;00m\n\u001b[1;32m----> 9\u001b[0m \u001b[43mkernel\u001b[49m\u001b[38;5;241;43m.\u001b[39;49m\u001b[43mlearn\u001b[49m\u001b[43m(\u001b[49m\u001b[38;5;124;43m\"\u001b[39;49m\u001b[38;5;124;43mstd-startup.xml\u001b[39;49m\u001b[38;5;124;43m\"\u001b[39;49m\u001b[43m)\u001b[49m\n\u001b[0;32m     10\u001b[0m kernel\u001b[38;5;241m.\u001b[39mrespond(\u001b[38;5;124m\"\u001b[39m\u001b[38;5;124mLOAD AIML B\u001b[39m\u001b[38;5;124m\"\u001b[39m)\n\u001b[0;32m     12\u001b[0m \u001b[38;5;66;03m# Loop de conversa\u001b[39;00m\n",
      "File \u001b[1;32mc:\\Python\\Python310\\lib\\site-packages\\aiml\\Kernel.py:335\u001b[0m, in \u001b[0;36mKernel.learn\u001b[1;34m(self, filename)\u001b[0m\n\u001b[0;32m    333\u001b[0m \u001b[38;5;28;01mfor\u001b[39;00m f \u001b[38;5;129;01min\u001b[39;00m glob\u001b[38;5;241m.\u001b[39mglob(filename):\n\u001b[0;32m    334\u001b[0m     \u001b[38;5;28;01mif\u001b[39;00m \u001b[38;5;28mself\u001b[39m\u001b[38;5;241m.\u001b[39m_verboseMode: \u001b[38;5;28mprint\u001b[39m( \u001b[38;5;124m\"\u001b[39m\u001b[38;5;124mLoading \u001b[39m\u001b[38;5;132;01m%s\u001b[39;00m\u001b[38;5;124m...\u001b[39m\u001b[38;5;124m\"\u001b[39m \u001b[38;5;241m%\u001b[39m f, end\u001b[38;5;241m=\u001b[39m\u001b[38;5;124m\"\u001b[39m\u001b[38;5;124m\"\u001b[39m)\n\u001b[1;32m--> 335\u001b[0m     start \u001b[38;5;241m=\u001b[39m \u001b[43mtime\u001b[49m\u001b[38;5;241;43m.\u001b[39;49m\u001b[43mclock\u001b[49m()\n\u001b[0;32m    336\u001b[0m     \u001b[38;5;66;03m# Load and parse the AIML file.\u001b[39;00m\n\u001b[0;32m    337\u001b[0m     parser \u001b[38;5;241m=\u001b[39m create_parser()\n",
      "\u001b[1;31mAttributeError\u001b[0m: module 'time' has no attribute 'clock'"
     ]
    }
   ],
   "source": [
    "# pip install aiml\n",
    "\n",
    "import aiml\n",
    "\n",
    "# Criar kernel (núcleo do bot)\n",
    "kernel = aiml.Kernel()\n",
    "\n",
    "# Carregar arquivos AIML\n",
    "kernel.learn(\"std-startup.xml\")\n",
    "kernel.respond(\"LOAD AIML B\")\n",
    "\n",
    "# Loop de conversa\n",
    "while True:\n",
    "    user_input = input(\"Você: \")\n",
    "    if user_input.lower() in [\"sair\", \"exit\", \"quit\"]:\n",
    "        break\n",
    "    response = kernel.respond(user_input)\n",
    "    print(\"Bot:\", response)"
   ]
  }
 ],
 "metadata": {
  "kernelspec": {
   "display_name": "Python 3",
   "language": "python",
   "name": "python3"
  },
  "language_info": {
   "codemirror_mode": {
    "name": "ipython",
    "version": 3
   },
   "file_extension": ".py",
   "mimetype": "text/x-python",
   "name": "python",
   "nbconvert_exporter": "python",
   "pygments_lexer": "ipython3",
   "version": "3.10.11"
  }
 },
 "nbformat": 4,
 "nbformat_minor": 5
}
