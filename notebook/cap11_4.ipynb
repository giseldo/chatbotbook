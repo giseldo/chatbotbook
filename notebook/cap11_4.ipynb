{
 "cells": [
  {
   "cell_type": "markdown",
   "id": "cc569cd1",
   "metadata": {},
   "source": [
    "Cap 11 - Capítulo expressões regulares"
   ]
  },
  {
   "cell_type": "markdown",
   "id": "ad78c982",
   "metadata": {},
   "source": [
    "11.4"
   ]
  },
  {
   "cell_type": "code",
   "execution_count": 1,
   "id": "1e8cc3b9",
   "metadata": {},
   "outputs": [
    {
     "name": "stdout",
     "output_type": "stream",
     "text": [
      "['Olá', 'como', 'vai', 'você', '']\n"
     ]
    }
   ],
   "source": [
    "import re\n",
    "\n",
    "texto = \"Olá, como vai você?\"\n",
    "tokens = re.split(r'\\W+', texto)\n",
    "print(tokens)"
   ]
  },
  {
   "cell_type": "code",
   "execution_count": null,
   "id": "c04b8784",
   "metadata": {},
   "outputs": [],
   "source": []
  }
 ],
 "metadata": {
  "kernelspec": {
   "display_name": "Python 3",
   "language": "python",
   "name": "python3"
  },
  "language_info": {
   "codemirror_mode": {
    "name": "ipython",
    "version": 3
   },
   "file_extension": ".py",
   "mimetype": "text/x-python",
   "name": "python",
   "nbconvert_exporter": "python",
   "pygments_lexer": "ipython3",
   "version": "3.10.11"
  }
 },
 "nbformat": 4,
 "nbformat_minor": 5
}
