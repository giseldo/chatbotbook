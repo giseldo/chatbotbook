{
 "cells": [
  {
   "cell_type": "markdown",
   "id": "cc569cd1",
   "metadata": {},
   "source": [
    "Cap 11 - Capítulo expressões regulares"
   ]
  },
  {
   "cell_type": "markdown",
   "id": "ad78c982",
   "metadata": {},
   "source": [
    "11.2"
   ]
  },
  {
   "cell_type": "code",
   "execution_count": 1,
   "id": "1e8cc3b9",
   "metadata": {},
   "outputs": [
    {
     "name": "stdout",
     "output_type": "stream",
     "text": [
      "'31/12/2020' é uma data válida no formato DD/MM/AAAA.\n",
      "'1/1/2021' não é uma data válida no formato DD/MM/AAAA.\n",
      "'2023-05-10' não é uma data válida no formato DD/MM/AAAA.\n",
      "'25/06/2025 10:00' é uma data válida no formato DD/MM/AAAA.\n"
     ]
    }
   ],
   "source": [
    "import re\n",
    "\n",
    "padrao_data = r'\\b\\d{2}/\\d{2}/\\d{4}\\b'\n",
    "datas_teste = [\"31/12/2020\", \"1/1/2021\", \"2023-05-10\", \"25/06/2025 10:00\"]\n",
    "\n",
    "for data in datas_teste:\n",
    "    if re.match(padrao_data, data):\n",
    "        print(f\"'{data}' é uma data válida no formato DD/MM/AAAA.\")\n",
    "    else:\n",
    "        print(f\"'{data}' não é uma data válida no formato DD/MM/AAAA.\")"
   ]
  }
 ],
 "metadata": {
  "kernelspec": {
   "display_name": "Python 3",
   "language": "python",
   "name": "python3"
  },
  "language_info": {
   "codemirror_mode": {
    "name": "ipython",
    "version": 3
   },
   "file_extension": ".py",
   "mimetype": "text/x-python",
   "name": "python",
   "nbconvert_exporter": "python",
   "pygments_lexer": "ipython3",
   "version": "3.10.11"
  }
 },
 "nbformat": 4,
 "nbformat_minor": 5
}
