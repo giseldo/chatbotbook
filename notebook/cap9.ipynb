{
 "cells": [
  {
   "cell_type": "markdown",
   "id": "cc569cd1",
   "metadata": {},
   "source": [
    "# Cap 9 - Langchain"
   ]
  },
  {
   "cell_type": "code",
   "execution_count": 2,
   "id": "4c5ba993",
   "metadata": {},
   "outputs": [
    {
     "name": "stdout",
     "output_type": "stream",
     "text": [
      "Requirement already satisfied: langchain in c:\\projetos\\chatbotbook\\.venv\\lib\\site-packages (0.3.23)\n",
      "Requirement already satisfied: async-timeout<5.0.0,>=4.0.0 in c:\\projetos\\chatbotbook\\.venv\\lib\\site-packages (from langchain) (4.0.3)\n",
      "Requirement already satisfied: pydantic<3.0.0,>=2.7.4 in c:\\projetos\\chatbotbook\\.venv\\lib\\site-packages (from langchain) (2.11.3)\n",
      "Requirement already satisfied: langsmith<0.4,>=0.1.17 in c:\\projetos\\chatbotbook\\.venv\\lib\\site-packages (from langchain) (0.3.33)\n",
      "Requirement already satisfied: requests<3,>=2 in c:\\projetos\\chatbotbook\\.venv\\lib\\site-packages (from langchain) (2.32.3)\n",
      "Requirement already satisfied: langchain-text-splitters<1.0.0,>=0.3.8 in c:\\projetos\\chatbotbook\\.venv\\lib\\site-packages (from langchain) (0.3.8)\n",
      "Requirement already satisfied: SQLAlchemy<3,>=1.4 in c:\\projetos\\chatbotbook\\.venv\\lib\\site-packages (from langchain) (2.0.40)\n",
      "Requirement already satisfied: PyYAML>=5.3 in c:\\projetos\\chatbotbook\\.venv\\lib\\site-packages (from langchain) (6.0.2)\n",
      "Requirement already satisfied: langchain-core<1.0.0,>=0.3.51 in c:\\projetos\\chatbotbook\\.venv\\lib\\site-packages (from langchain) (0.3.55)\n",
      "Requirement already satisfied: packaging<25,>=23.2 in c:\\projetos\\chatbotbook\\.venv\\lib\\site-packages (from langchain-core<1.0.0,>=0.3.51->langchain) (24.2)\n",
      "Requirement already satisfied: typing-extensions>=4.7 in c:\\projetos\\chatbotbook\\.venv\\lib\\site-packages (from langchain-core<1.0.0,>=0.3.51->langchain) (4.13.2)\n",
      "Requirement already satisfied: jsonpatch<2.0,>=1.33 in c:\\projetos\\chatbotbook\\.venv\\lib\\site-packages (from langchain-core<1.0.0,>=0.3.51->langchain) (1.33)\n",
      "Requirement already satisfied: tenacity!=8.4.0,<10.0.0,>=8.1.0 in c:\\projetos\\chatbotbook\\.venv\\lib\\site-packages (from langchain-core<1.0.0,>=0.3.51->langchain) (9.1.2)\n",
      "Requirement already satisfied: zstandard<0.24.0,>=0.23.0 in c:\\projetos\\chatbotbook\\.venv\\lib\\site-packages (from langsmith<0.4,>=0.1.17->langchain) (0.23.0)\n",
      "Requirement already satisfied: orjson<4.0.0,>=3.9.14 in c:\\projetos\\chatbotbook\\.venv\\lib\\site-packages (from langsmith<0.4,>=0.1.17->langchain) (3.10.16)\n",
      "Requirement already satisfied: httpx<1,>=0.23.0 in c:\\projetos\\chatbotbook\\.venv\\lib\\site-packages (from langsmith<0.4,>=0.1.17->langchain) (0.28.1)\n",
      "Requirement already satisfied: requests-toolbelt<2.0.0,>=1.0.0 in c:\\projetos\\chatbotbook\\.venv\\lib\\site-packages (from langsmith<0.4,>=0.1.17->langchain) (1.0.0)\n",
      "Requirement already satisfied: typing-inspection>=0.4.0 in c:\\projetos\\chatbotbook\\.venv\\lib\\site-packages (from pydantic<3.0.0,>=2.7.4->langchain) (0.4.0)\n",
      "Requirement already satisfied: annotated-types>=0.6.0 in c:\\projetos\\chatbotbook\\.venv\\lib\\site-packages (from pydantic<3.0.0,>=2.7.4->langchain) (0.7.0)\n",
      "Requirement already satisfied: pydantic-core==2.33.1 in c:\\projetos\\chatbotbook\\.venv\\lib\\site-packages (from pydantic<3.0.0,>=2.7.4->langchain) (2.33.1)\n",
      "Requirement already satisfied: idna<4,>=2.5 in c:\\projetos\\chatbotbook\\.venv\\lib\\site-packages (from requests<3,>=2->langchain) (3.10)\n",
      "Requirement already satisfied: urllib3<3,>=1.21.1 in c:\\projetos\\chatbotbook\\.venv\\lib\\site-packages (from requests<3,>=2->langchain) (2.4.0)\n",
      "Requirement already satisfied: charset-normalizer<4,>=2 in c:\\projetos\\chatbotbook\\.venv\\lib\\site-packages (from requests<3,>=2->langchain) (3.4.1)\n",
      "Requirement already satisfied: certifi>=2017.4.17 in c:\\projetos\\chatbotbook\\.venv\\lib\\site-packages (from requests<3,>=2->langchain) (2025.1.31)\n",
      "Requirement already satisfied: greenlet>=1 in c:\\projetos\\chatbotbook\\.venv\\lib\\site-packages (from SQLAlchemy<3,>=1.4->langchain) (3.2.0)\n",
      "Requirement already satisfied: anyio in c:\\projetos\\chatbotbook\\.venv\\lib\\site-packages (from httpx<1,>=0.23.0->langsmith<0.4,>=0.1.17->langchain) (4.9.0)\n",
      "Requirement already satisfied: httpcore==1.* in c:\\projetos\\chatbotbook\\.venv\\lib\\site-packages (from httpx<1,>=0.23.0->langsmith<0.4,>=0.1.17->langchain) (1.0.8)\n",
      "Requirement already satisfied: h11<0.15,>=0.13 in c:\\projetos\\chatbotbook\\.venv\\lib\\site-packages (from httpcore==1.*->httpx<1,>=0.23.0->langsmith<0.4,>=0.1.17->langchain) (0.14.0)\n",
      "Requirement already satisfied: jsonpointer>=1.9 in c:\\projetos\\chatbotbook\\.venv\\lib\\site-packages (from jsonpatch<2.0,>=1.33->langchain-core<1.0.0,>=0.3.51->langchain) (3.0.0)\n",
      "Requirement already satisfied: exceptiongroup>=1.0.2 in c:\\projetos\\chatbotbook\\.venv\\lib\\site-packages (from anyio->httpx<1,>=0.23.0->langsmith<0.4,>=0.1.17->langchain) (1.2.2)\n",
      "Requirement already satisfied: sniffio>=1.1 in c:\\projetos\\chatbotbook\\.venv\\lib\\site-packages (from anyio->httpx<1,>=0.23.0->langsmith<0.4,>=0.1.17->langchain) (1.3.1)\n",
      "Note: you may need to restart the kernel to use updated packages.\n"
     ]
    },
    {
     "name": "stderr",
     "output_type": "stream",
     "text": [
      "\n",
      "[notice] A new release of pip is available: 23.0.1 -> 25.0.1\n",
      "[notice] To update, run: python.exe -m pip install --upgrade pip\n"
     ]
    },
    {
     "name": "stdout",
     "output_type": "stream",
     "text": [
      "Requirement already satisfied: langchain_openai in c:\\projetos\\chatbotbook\\.venv\\lib\\site-packages (0.3.14)\n",
      "Requirement already satisfied: langchain-core<1.0.0,>=0.3.53 in c:\\projetos\\chatbotbook\\.venv\\lib\\site-packages (from langchain_openai) (0.3.55)\n",
      "Requirement already satisfied: openai<2.0.0,>=1.68.2 in c:\\projetos\\chatbotbook\\.venv\\lib\\site-packages (from langchain_openai) (1.75.0)\n",
      "Requirement already satisfied: tiktoken<1,>=0.7 in c:\\projetos\\chatbotbook\\.venv\\lib\\site-packages (from langchain_openai) (0.9.0)\n",
      "Requirement already satisfied: typing-extensions>=4.7 in c:\\projetos\\chatbotbook\\.venv\\lib\\site-packages (from langchain-core<1.0.0,>=0.3.53->langchain_openai) (4.13.2)\n",
      "Requirement already satisfied: langsmith<0.4,>=0.1.125 in c:\\projetos\\chatbotbook\\.venv\\lib\\site-packages (from langchain-core<1.0.0,>=0.3.53->langchain_openai) (0.3.33)\n",
      "Requirement already satisfied: tenacity!=8.4.0,<10.0.0,>=8.1.0 in c:\\projetos\\chatbotbook\\.venv\\lib\\site-packages (from langchain-core<1.0.0,>=0.3.53->langchain_openai) (9.1.2)\n",
      "Requirement already satisfied: packaging<25,>=23.2 in c:\\projetos\\chatbotbook\\.venv\\lib\\site-packages (from langchain-core<1.0.0,>=0.3.53->langchain_openai) (24.2)\n",
      "Requirement already satisfied: PyYAML>=5.3 in c:\\projetos\\chatbotbook\\.venv\\lib\\site-packages (from langchain-core<1.0.0,>=0.3.53->langchain_openai) (6.0.2)\n",
      "Requirement already satisfied: pydantic<3.0.0,>=2.5.2 in c:\\projetos\\chatbotbook\\.venv\\lib\\site-packages (from langchain-core<1.0.0,>=0.3.53->langchain_openai) (2.11.3)\n",
      "Requirement already satisfied: jsonpatch<2.0,>=1.33 in c:\\projetos\\chatbotbook\\.venv\\lib\\site-packages (from langchain-core<1.0.0,>=0.3.53->langchain_openai) (1.33)\n",
      "Requirement already satisfied: distro<2,>=1.7.0 in c:\\projetos\\chatbotbook\\.venv\\lib\\site-packages (from openai<2.0.0,>=1.68.2->langchain_openai) (1.9.0)\n",
      "Requirement already satisfied: tqdm>4 in c:\\projetos\\chatbotbook\\.venv\\lib\\site-packages (from openai<2.0.0,>=1.68.2->langchain_openai) (4.67.1)\n",
      "Requirement already satisfied: jiter<1,>=0.4.0 in c:\\projetos\\chatbotbook\\.venv\\lib\\site-packages (from openai<2.0.0,>=1.68.2->langchain_openai) (0.9.0)\n",
      "Requirement already satisfied: httpx<1,>=0.23.0 in c:\\projetos\\chatbotbook\\.venv\\lib\\site-packages (from openai<2.0.0,>=1.68.2->langchain_openai) (0.28.1)\n",
      "Requirement already satisfied: sniffio in c:\\projetos\\chatbotbook\\.venv\\lib\\site-packages (from openai<2.0.0,>=1.68.2->langchain_openai) (1.3.1)\n",
      "Requirement already satisfied: anyio<5,>=3.5.0 in c:\\projetos\\chatbotbook\\.venv\\lib\\site-packages (from openai<2.0.0,>=1.68.2->langchain_openai) (4.9.0)\n",
      "Requirement already satisfied: regex>=2022.1.18 in c:\\projetos\\chatbotbook\\.venv\\lib\\site-packages (from tiktoken<1,>=0.7->langchain_openai) (2024.11.6)\n",
      "Requirement already satisfied: requests>=2.26.0 in c:\\projetos\\chatbotbook\\.venv\\lib\\site-packages (from tiktoken<1,>=0.7->langchain_openai) (2.32.3)\n",
      "Requirement already satisfied: idna>=2.8 in c:\\projetos\\chatbotbook\\.venv\\lib\\site-packages (from anyio<5,>=3.5.0->openai<2.0.0,>=1.68.2->langchain_openai) (3.10)\n",
      "Requirement already satisfied: exceptiongroup>=1.0.2 in c:\\projetos\\chatbotbook\\.venv\\lib\\site-packages (from anyio<5,>=3.5.0->openai<2.0.0,>=1.68.2->langchain_openai) (1.2.2)\n",
      "Requirement already satisfied: httpcore==1.* in c:\\projetos\\chatbotbook\\.venv\\lib\\site-packages (from httpx<1,>=0.23.0->openai<2.0.0,>=1.68.2->langchain_openai) (1.0.8)\n",
      "Requirement already satisfied: certifi in c:\\projetos\\chatbotbook\\.venv\\lib\\site-packages (from httpx<1,>=0.23.0->openai<2.0.0,>=1.68.2->langchain_openai) (2025.1.31)\n",
      "Requirement already satisfied: h11<0.15,>=0.13 in c:\\projetos\\chatbotbook\\.venv\\lib\\site-packages (from httpcore==1.*->httpx<1,>=0.23.0->openai<2.0.0,>=1.68.2->langchain_openai) (0.14.0)\n",
      "Requirement already satisfied: jsonpointer>=1.9 in c:\\projetos\\chatbotbook\\.venv\\lib\\site-packages (from jsonpatch<2.0,>=1.33->langchain-core<1.0.0,>=0.3.53->langchain_openai) (3.0.0)\n",
      "Requirement already satisfied: orjson<4.0.0,>=3.9.14 in c:\\projetos\\chatbotbook\\.venv\\lib\\site-packages (from langsmith<0.4,>=0.1.125->langchain-core<1.0.0,>=0.3.53->langchain_openai) (3.10.16)\n",
      "Requirement already satisfied: requests-toolbelt<2.0.0,>=1.0.0 in c:\\projetos\\chatbotbook\\.venv\\lib\\site-packages (from langsmith<0.4,>=0.1.125->langchain-core<1.0.0,>=0.3.53->langchain_openai) (1.0.0)\n",
      "Requirement already satisfied: zstandard<0.24.0,>=0.23.0 in c:\\projetos\\chatbotbook\\.venv\\lib\\site-packages (from langsmith<0.4,>=0.1.125->langchain-core<1.0.0,>=0.3.53->langchain_openai) (0.23.0)\n",
      "Requirement already satisfied: pydantic-core==2.33.1 in c:\\projetos\\chatbotbook\\.venv\\lib\\site-packages (from pydantic<3.0.0,>=2.5.2->langchain-core<1.0.0,>=0.3.53->langchain_openai) (2.33.1)\n",
      "Requirement already satisfied: typing-inspection>=0.4.0 in c:\\projetos\\chatbotbook\\.venv\\lib\\site-packages (from pydantic<3.0.0,>=2.5.2->langchain-core<1.0.0,>=0.3.53->langchain_openai) (0.4.0)\n",
      "Requirement already satisfied: annotated-types>=0.6.0 in c:\\projetos\\chatbotbook\\.venv\\lib\\site-packages (from pydantic<3.0.0,>=2.5.2->langchain-core<1.0.0,>=0.3.53->langchain_openai) (0.7.0)\n",
      "Requirement already satisfied: urllib3<3,>=1.21.1 in c:\\projetos\\chatbotbook\\.venv\\lib\\site-packages (from requests>=2.26.0->tiktoken<1,>=0.7->langchain_openai) (2.4.0)\n",
      "Requirement already satisfied: charset-normalizer<4,>=2 in c:\\projetos\\chatbotbook\\.venv\\lib\\site-packages (from requests>=2.26.0->tiktoken<1,>=0.7->langchain_openai) (3.4.1)\n",
      "Requirement already satisfied: colorama in c:\\projetos\\chatbotbook\\.venv\\lib\\site-packages (from tqdm>4->openai<2.0.0,>=1.68.2->langchain_openai) (0.4.6)\n",
      "Note: you may need to restart the kernel to use updated packages.\n"
     ]
    },
    {
     "name": "stderr",
     "output_type": "stream",
     "text": [
      "\n",
      "[notice] A new release of pip is available: 23.0.1 -> 25.0.1\n",
      "[notice] To update, run: python.exe -m pip install --upgrade pip\n"
     ]
    }
   ],
   "source": [
    "%pip install langchain\n",
    "%pip install langchain_openai"
   ]
  },
  {
   "cell_type": "code",
   "execution_count": null,
   "id": "1e8cc3b9",
   "metadata": {},
   "outputs": [
    {
     "name": "stdout",
     "output_type": "stream",
     "text": [
      "Até a minha última atualização em outubro de 2023, o presidente do Brasil é Luiz Inácio Lula da Silva. Ele assumiu o cargo em janeiro de 2023. Para informações mais atualizadas, recomendo verificar fontes de notícias recentes.\n"
     ]
    }
   ],
   "source": [
    "from langchain.chat_models import init_chat_model\n",
    "from langchain_core.messages import HumanMessage\n",
    "import os\n",
    "\n",
    "OPENAI_API_KEY = os.environ.get(\"OPENAI_API_KEY\")\n",
    "\n",
    "model = init_chat_model(\"gpt-4o-mini\", \n",
    "                        model_provider=\"openai\", \n",
    "\t\t\t\t\t\topenai_api_key=OPENAI_API_KEY)\n",
    "\n",
    "user_message = HumanMessage(content=\"Quem é o presidente do Brasil?\")\n",
    "\n",
    "response = model.invoke([user_message])\n",
    "\n",
    "print(response.content)"
   ]
  }
 ],
 "metadata": {
  "kernelspec": {
   "display_name": ".venv",
   "language": "python",
   "name": "python3"
  },
  "language_info": {
   "codemirror_mode": {
    "name": "ipython",
    "version": 3
   },
   "file_extension": ".py",
   "mimetype": "text/x-python",
   "name": "python",
   "nbconvert_exporter": "python",
   "pygments_lexer": "ipython3",
   "version": "3.10.11"
  }
 },
 "nbformat": 4,
 "nbformat_minor": 5
}
